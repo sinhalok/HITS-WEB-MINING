{
 "cells": [
  {
   "cell_type": "code",
   "execution_count": 1,
   "metadata": {},
   "outputs": [
    {
     "name": "stdout",
     "output_type": "stream",
     "text": [
      "[[0 1 1 0 0 0]\n",
      " [0 0 0 0 0 0]\n",
      " [1 1 0 0 1 0]\n",
      " [0 0 0 0 1 1]\n",
      " [0 0 0 1 0 1]\n",
      " [0 0 0 1 0 0]]\n"
     ]
    }
   ],
   "source": [
    "#input adjacency matrix\n",
    "import numpy as np\n",
    "L = np.array([[0,1,1,0,0,0],[0,0,0,0,0,0],[1,1,0,0,1,0],[0,0,0,0,1,1],[0,0,0,1,0,1],[0,0,0,1,0,0]])\n",
    "print(L)\n",
    "n=len(L)"
   ]
  },
  {
   "cell_type": "code",
   "execution_count": 2,
   "metadata": {},
   "outputs": [],
   "source": [
    "L_T = np.transpose(L)\n",
    "H=[]\n",
    "A=[]\n",
    "H.append(np.ones((n,1)))\n",
    "A.append(np.ones((n,1)))\n",
    "e=0.05\n",
    "c=1\n",
    "k=0\n",
    "while c:\n",
    "    H.append((L.dot(L_T).dot(H[k])))\n",
    "    H[k+1]=H[k+1]/np.linalg.norm(H[k+1])\n",
    "    a=abs((H[k+1]-H[k]))<e\n",
    "    stop = a.all()\n",
    "    if stop:\n",
    "        c=0\n",
    "\n",
    "    k=k+1\n",
    "c=1\n",
    "k=0\n",
    "while c:\n",
    "    A.append((L_T.dot(L).dot(A[k])))\n",
    "    A[k+1]=A[k+1]/np.linalg.norm(A[k+1])\n",
    "    a=abs((A[k+1]-A[k]))<e\n",
    "    stop = a.all()\n",
    "    if stop:\n",
    "        c=0\n",
    "\n",
    "    k=k+1"
   ]
  },
  {
   "cell_type": "code",
   "execution_count": 3,
   "metadata": {},
   "outputs": [
    {
     "name": "stdout",
     "output_type": "stream",
     "text": [
      "--------------------------------\n",
      "Iteration 0\n",
      "[[1.]\n",
      " [1.]\n",
      " [1.]\n",
      " [1.]\n",
      " [1.]\n",
      " [1.]]\n",
      "--------------------------------\n",
      "--------------------------------\n",
      "Iteration 1\n",
      "[[0.35856858]\n",
      " [0.        ]\n",
      " [0.5976143 ]\n",
      " [0.47809144]\n",
      " [0.47809144]\n",
      " [0.23904572]]\n",
      "--------------------------------\n",
      "--------------------------------\n",
      "Iteration 2\n",
      "[[0.32781098]\n",
      " [0.        ]\n",
      " [0.65562195]\n",
      " [0.50661696]\n",
      " [0.41721397]\n",
      " [0.17880599]]\n",
      "--------------------------------\n",
      "--------------------------------\n",
      "Iteration 3\n",
      "[[0.3219924 ]\n",
      " [0.        ]\n",
      " [0.68789287]\n",
      " [0.51226064]\n",
      " [0.37321847]\n",
      " [0.14636018]]\n",
      "--------------------------------\n"
     ]
    }
   ],
   "source": [
    "#Hubs\n",
    "for i in range(len(H)):\n",
    "    print('--------------------------------')\n",
    "    print(f'Iteration {i}')\n",
    "    \n",
    "    print(H[i])\n",
    "    print('--------------------------------')"
   ]
  },
  {
   "cell_type": "code",
   "execution_count": 4,
   "metadata": {},
   "outputs": [
    {
     "name": "stdout",
     "output_type": "stream",
     "text": [
      "--------------------------------\n",
      "Iteration 0\n",
      "[[1.]\n",
      " [1.]\n",
      " [1.]\n",
      " [1.]\n",
      " [1.]\n",
      " [1.]]\n",
      "--------------------------------\n",
      "--------------------------------\n",
      "Iteration 1\n",
      "[[0.31980107]\n",
      " [0.53300179]\n",
      " [0.21320072]\n",
      " [0.31980107]\n",
      " [0.53300179]\n",
      " [0.42640143]]\n",
      "--------------------------------\n",
      "--------------------------------\n",
      "Iteration 2\n",
      "[[0.34045882]\n",
      " [0.5237828 ]\n",
      " [0.18332398]\n",
      " [0.2618914 ]\n",
      " [0.57616108]\n",
      " [0.41902624]]\n",
      "--------------------------------\n",
      "--------------------------------\n",
      "Iteration 3\n",
      "[[0.35124594]\n",
      " [0.52367576]\n",
      " [0.17242982]\n",
      " [0.22990643]\n",
      " [0.59392495]\n",
      " [0.40872255]]\n",
      "--------------------------------\n"
     ]
    }
   ],
   "source": [
    "#authority\n",
    "for i in range(len(A)):\n",
    "    print('--------------------------------')\n",
    "    print(f'Iteration {i}')\n",
    "    \n",
    "    print(A[i])\n",
    "    print('--------------------------------')"
   ]
  },
  {
   "cell_type": "code",
   "execution_count": null,
   "metadata": {},
   "outputs": [],
   "source": []
  }
 ],
 "metadata": {
  "kernelspec": {
   "display_name": "Python 3",
   "language": "python",
   "name": "python3"
  },
  "language_info": {
   "codemirror_mode": {
    "name": "ipython",
    "version": 3
   },
   "file_extension": ".py",
   "mimetype": "text/x-python",
   "name": "python",
   "nbconvert_exporter": "python",
   "pygments_lexer": "ipython3",
   "version": "3.7.3"
  }
 },
 "nbformat": 4,
 "nbformat_minor": 2
}
